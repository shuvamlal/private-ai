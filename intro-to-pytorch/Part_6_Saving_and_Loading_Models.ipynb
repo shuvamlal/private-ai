{
  "nbformat": 4,
  "nbformat_minor": 0,
  "metadata": {
    "colab": {
      "name": "Part 6 - Saving and Loading Models.ipynb",
      "version": "0.3.2",
      "provenance": [],
      "toc_visible": true
    },
    "language_info": {
      "codemirror_mode": {
        "name": "ipython",
        "version": 3
      },
      "file_extension": ".py",
      "mimetype": "text/x-python",
      "name": "python",
      "nbconvert_exporter": "python",
      "pygments_lexer": "ipython3",
      "version": "3.6.6"
    },
    "kernelspec": {
      "display_name": "Python 3",
      "language": "python",
      "name": "python3"
    }
  },
  "cells": [
    {
      "cell_type": "markdown",
      "metadata": {
        "id": "_1CCWkSwFh3q",
        "colab_type": "text"
      },
      "source": [
        "# Saving and Loading Models\n",
        "\n",
        "In this notebook, I'll show you how to save and load models with PyTorch. This is important because you'll often want to load previously trained models to use in making predictions or to continue training on new data."
      ]
    },
    {
      "cell_type": "code",
      "metadata": {
        "id": "CcPzmAgYFh3t",
        "colab_type": "code",
        "colab": {}
      },
      "source": [
        "%matplotlib inline\n",
        "%config InlineBackend.figure_format = 'retina'\n",
        "\n",
        "import matplotlib.pyplot as plt\n",
        "\n",
        "import torch\n",
        "from torch import nn\n",
        "from torch import optim\n",
        "import torch.nn.functional as F\n",
        "from torchvision import datasets, transforms\n",
        "\n",
        "import helper\n",
        "import fc_model"
      ],
      "execution_count": 0,
      "outputs": []
    },
    {
      "cell_type": "code",
      "metadata": {
        "id": "W8R76WT9Fh32",
        "colab_type": "code",
        "colab": {}
      },
      "source": [
        "# Define a transform to normalize the data\n",
        "transform = transforms.Compose([transforms.ToTensor(),\n",
        "                                transforms.Normalize((0.5,), (0.5,))])\n",
        "# Download and load the training data\n",
        "trainset = datasets.FashionMNIST('~/.pytorch/F_MNIST_data/', download=True, train=True, transform=transform)\n",
        "trainloader = torch.utils.data.DataLoader(trainset, batch_size=64, shuffle=True)\n",
        "\n",
        "# Download and load the test data\n",
        "testset = datasets.FashionMNIST('~/.pytorch/F_MNIST_data/', download=True, train=False, transform=transform)\n",
        "testloader = torch.utils.data.DataLoader(testset, batch_size=64, shuffle=True)"
      ],
      "execution_count": 0,
      "outputs": []
    },
    {
      "cell_type": "markdown",
      "metadata": {
        "id": "w6I4CTrcFh36",
        "colab_type": "text"
      },
      "source": [
        "Here we can see one of the images."
      ]
    },
    {
      "cell_type": "code",
      "metadata": {
        "id": "1_hTcOOaFh37",
        "colab_type": "code",
        "outputId": "9cdb5547-337d-476a-dd8d-3cf280ab49d7",
        "colab": {
          "base_uri": "https://localhost:8080/",
          "height": 250
        }
      },
      "source": [
        "image, label = next(iter(trainloader))\n",
        "helper.imshow(image[0,:]);"
      ],
      "execution_count": 0,
      "outputs": [
        {
          "output_type": "display_data",
          "data": {
            "image/png": "[encoded data removed]",
            "text/plain": [
              "<Figure size 432x288 with 1 Axes>"
            ]
          },
          "metadata": {
            "tags": [],
            "image/png": {
              "width": 233,
              "height": 233
            }
          }
        }
      ]
    },
    {
      "cell_type": "markdown",
      "metadata": {
        "id": "fOiC8_v8Fh4C",
        "colab_type": "text"
      },
      "source": [
        "# Train a network\n",
        "\n",
        "To make things more concise here, I moved the model architecture and training code from the last part to a file called `fc_model`. Importing this, we can easily create a fully-connected network with `fc_model.Network`, and train the network using `fc_model.train`. I'll use this model (once it's trained) to demonstrate how we can save and load models."
      ]
    },
    {
      "cell_type": "code",
      "metadata": {
        "id": "cj7ljeADFh4E",
        "colab_type": "code",
        "colab": {}
      },
      "source": [
        "# Create the network, define the criterion and optimizer\n",
        "\n",
        "model = fc_model.Network(784, 10, [512, 256, 128])\n",
        "criterion = nn.NLLLoss()\n",
        "optimizer = optim.Adam(model.parameters(), lr=0.001)"
      ],
      "execution_count": 0,
      "outputs": []
    },
    {
      "cell_type": "code",
      "metadata": {
        "id": "v5Zssc3HFh4H",
        "colab_type": "code",
        "outputId": "e350752f-d6a0-487b-d041-69d4e8dcc58d",
        "colab": {
          "base_uri": "https://localhost:8080/",
          "height": 790
        }
      },
      "source": [
        "fc_model.train(model, trainloader, testloader, criterion, optimizer, epochs=2)"
      ],
      "execution_count": 0,
      "outputs": [
        {
          "output_type": "stream",
          "text": [
            "Epoch: 1/2..  Training Loss: 1.715..  Test Loss: 1.002..  Test Accuracy: 0.628\n",
            "Epoch: 1/2..  Training Loss: 1.058..  Test Loss: 0.762..  Test Accuracy: 0.703\n",
            "Epoch: 1/2..  Training Loss: 0.866..  Test Loss: 0.704..  Test Accuracy: 0.735\n",
            "Epoch: 1/2..  Training Loss: 0.816..  Test Loss: 0.634..  Test Accuracy: 0.753\n",
            "Epoch: 1/2..  Training Loss: 0.748..  Test Loss: 0.601..  Test Accuracy: 0.769\n",
            "Epoch: 1/2..  Training Loss: 0.697..  Test Loss: 0.608..  Test Accuracy: 0.766\n",
            "Epoch: 1/2..  Training Loss: 0.686..  Test Loss: 0.574..  Test Accuracy: 0.780\n",
            "Epoch: 1/2..  Training Loss: 0.695..  Test Loss: 0.577..  Test Accuracy: 0.784\n",
            "Epoch: 1/2..  Training Loss: 0.641..  Test Loss: 0.551..  Test Accuracy: 0.792\n",
            "Epoch: 1/2..  Training Loss: 0.647..  Test Loss: 0.541..  Test Accuracy: 0.802\n",
            "Epoch: 1/2..  Training Loss: 0.623..  Test Loss: 0.535..  Test Accuracy: 0.802\n",
            "Epoch: 1/2..  Training Loss: 0.630..  Test Loss: 0.538..  Test Accuracy: 0.802\n",
            "Epoch: 1/2..  Training Loss: 0.608..  Test Loss: 0.544..  Test Accuracy: 0.801\n",
            "Epoch: 1/2..  Training Loss: 0.628..  Test Loss: 0.527..  Test Accuracy: 0.803\n",
            "Epoch: 1/2..  Training Loss: 0.573..  Test Loss: 0.502..  Test Accuracy: 0.812\n",
            "Epoch: 1/2..  Training Loss: 0.623..  Test Loss: 0.520..  Test Accuracy: 0.807\n",
            "Epoch: 1/2..  Training Loss: 0.589..  Test Loss: 0.521..  Test Accuracy: 0.810\n",
            "Epoch: 1/2..  Training Loss: 0.598..  Test Loss: 0.510..  Test Accuracy: 0.815\n",
            "Epoch: 1/2..  Training Loss: 0.583..  Test Loss: 0.510..  Test Accuracy: 0.814\n",
            "Epoch: 1/2..  Training Loss: 0.564..  Test Loss: 0.486..  Test Accuracy: 0.823\n",
            "Epoch: 1/2..  Training Loss: 0.568..  Test Loss: 0.485..  Test Accuracy: 0.819\n",
            "Epoch: 1/2..  Training Loss: 0.573..  Test Loss: 0.480..  Test Accuracy: 0.825\n",
            "Epoch: 1/2..  Training Loss: 0.566..  Test Loss: 0.494..  Test Accuracy: 0.818\n",
            "Epoch: 2/2..  Training Loss: 0.551..  Test Loss: 0.478..  Test Accuracy: 0.823\n",
            "Epoch: 2/2..  Training Loss: 0.521..  Test Loss: 0.475..  Test Accuracy: 0.826\n",
            "Epoch: 2/2..  Training Loss: 0.558..  Test Loss: 0.475..  Test Accuracy: 0.825\n",
            "Epoch: 2/2..  Training Loss: 0.565..  Test Loss: 0.465..  Test Accuracy: 0.831\n",
            "Epoch: 2/2..  Training Loss: 0.528..  Test Loss: 0.467..  Test Accuracy: 0.830\n",
            "Epoch: 2/2..  Training Loss: 0.578..  Test Loss: 0.469..  Test Accuracy: 0.829\n",
            "Epoch: 2/2..  Training Loss: 0.515..  Test Loss: 0.462..  Test Accuracy: 0.825\n",
            "Epoch: 2/2..  Training Loss: 0.541..  Test Loss: 0.469..  Test Accuracy: 0.827\n",
            "Epoch: 2/2..  Training Loss: 0.554..  Test Loss: 0.459..  Test Accuracy: 0.832\n",
            "Epoch: 2/2..  Training Loss: 0.499..  Test Loss: 0.454..  Test Accuracy: 0.834\n",
            "Epoch: 2/2..  Training Loss: 0.517..  Test Loss: 0.459..  Test Accuracy: 0.827\n",
            "Epoch: 2/2..  Training Loss: 0.533..  Test Loss: 0.481..  Test Accuracy: 0.819\n",
            "Epoch: 2/2..  Training Loss: 0.516..  Test Loss: 0.455..  Test Accuracy: 0.833\n",
            "Epoch: 2/2..  Training Loss: 0.543..  Test Loss: 0.452..  Test Accuracy: 0.827\n",
            "Epoch: 2/2..  Training Loss: 0.497..  Test Loss: 0.461..  Test Accuracy: 0.832\n",
            "Epoch: 2/2..  Training Loss: 0.526..  Test Loss: 0.455..  Test Accuracy: 0.829\n",
            "Epoch: 2/2..  Training Loss: 0.500..  Test Loss: 0.447..  Test Accuracy: 0.837\n",
            "Epoch: 2/2..  Training Loss: 0.544..  Test Loss: 0.453..  Test Accuracy: 0.831\n",
            "Epoch: 2/2..  Training Loss: 0.492..  Test Loss: 0.444..  Test Accuracy: 0.836\n",
            "Epoch: 2/2..  Training Loss: 0.533..  Test Loss: 0.445..  Test Accuracy: 0.838\n",
            "Epoch: 2/2..  Training Loss: 0.529..  Test Loss: 0.449..  Test Accuracy: 0.833\n",
            "Epoch: 2/2..  Training Loss: 0.547..  Test Loss: 0.448..  Test Accuracy: 0.836\n",
            "Epoch: 2/2..  Training Loss: 0.500..  Test Loss: 0.444..  Test Accuracy: 0.839\n"
          ],
          "name": "stdout"
        }
      ]
    },
    {
      "cell_type": "markdown",
      "metadata": {
        "id": "ERxjjiDEFh4L",
        "colab_type": "text"
      },
      "source": [
        "## Saving and loading networks\n",
        "\n",
        "As you can imagine, it's impractical to train a network every time you need to use it. Instead, we can save trained networks then load them later to train more or use them for predictions.\n",
        "\n",
        "The parameters for PyTorch networks are stored in a model's `state_dict`. We can see the state dict contains the weight and bias matrices for each of our layers."
      ]
    },
    {
      "cell_type": "code",
      "metadata": {
        "id": "XPMzaJyRFh4M",
        "colab_type": "code",
        "outputId": "f40f2d7f-096f-412f-f27c-ed3b2a710b6b",
        "colab": {
          "base_uri": "https://localhost:8080/",
          "height": 289
        }
      },
      "source": [
        "print(\"Our model: \\n\\n\", model, '\\n')\n",
        "print(\"The state dict keys: \\n\\n\", model.state_dict().keys())"
      ],
      "execution_count": 0,
      "outputs": [
        {
          "output_type": "stream",
          "text": [
            "Our model: \n",
            "\n",
            " Network(\n",
            "  (hidden_layers): ModuleList(\n",
            "    (0): Linear(in_features=784, out_features=512, bias=True)\n",
            "    (1): Linear(in_features=512, out_features=256, bias=True)\n",
            "    (2): Linear(in_features=256, out_features=128, bias=True)\n",
            "  )\n",
            "  (output): Linear(in_features=128, out_features=10, bias=True)\n",
            "  (dropout): Dropout(p=0.5)\n",
            ") \n",
            "\n",
            "The state dict keys: \n",
            "\n",
            " odict_keys(['hidden_layers.0.weight', 'hidden_layers.0.bias', 'hidden_layers.1.weight', 'hidden_layers.1.bias', 'hidden_layers.2.weight', 'hidden_layers.2.bias', 'output.weight', 'output.bias'])\n"
          ],
          "name": "stdout"
        }
      ]
    },
    {
      "cell_type": "markdown",
      "metadata": {
        "id": "dakOSSLAFh4P",
        "colab_type": "text"
      },
      "source": [
        "The simplest thing to do is simply save the state dict with `torch.save`. For example, we can save it to a file `'checkpoint.pth'`."
      ]
    },
    {
      "cell_type": "code",
      "metadata": {
        "id": "H0FvMtAJFh4Q",
        "colab_type": "code",
        "colab": {}
      },
      "source": [
        "torch.save(model.state_dict(), 'checkpoint.pth')"
      ],
      "execution_count": 0,
      "outputs": []
    },
    {
      "cell_type": "markdown",
      "metadata": {
        "id": "zBD9pCXbFh4U",
        "colab_type": "text"
      },
      "source": [
        "Then we can load the state dict with `torch.load`."
      ]
    },
    {
      "cell_type": "code",
      "metadata": {
        "id": "5SA6gWcrFh4V",
        "colab_type": "code",
        "outputId": "69a0d0c7-1d35-4eff-e8d8-f3fe4870efa0",
        "colab": {
          "base_uri": "https://localhost:8080/",
          "height": 54
        }
      },
      "source": [
        "state_dict = torch.load('checkpoint.pth')\n",
        "print(state_dict.keys())"
      ],
      "execution_count": 0,
      "outputs": [
        {
          "output_type": "stream",
          "text": [
            "odict_keys(['hidden_layers.0.weight', 'hidden_layers.0.bias', 'hidden_layers.1.weight', 'hidden_layers.1.bias', 'hidden_layers.2.weight', 'hidden_layers.2.bias', 'output.weight', 'output.bias'])\n"
          ],
          "name": "stdout"
        }
      ]
    },
    {
      "cell_type": "markdown",
      "metadata": {
        "id": "9rWMOGKHFh4Y",
        "colab_type": "text"
      },
      "source": [
        "And to load the state dict in to the network, you do `model.load_state_dict(state_dict)`."
      ]
    },
    {
      "cell_type": "code",
      "metadata": {
        "id": "cdssJuxEFh4Z",
        "colab_type": "code",
        "outputId": "1c4b2066-750a-4343-8de4-92c315713322",
        "colab": {
          "base_uri": "https://localhost:8080/",
          "height": 34
        }
      },
      "source": [
        "model.load_state_dict(state_dict)"
      ],
      "execution_count": 0,
      "outputs": [
        {
          "output_type": "execute_result",
          "data": {
            "text/plain": [
              "IncompatibleKeys(missing_keys=[], unexpected_keys=[])"
            ]
          },
          "metadata": {
            "tags": []
          },
          "execution_count": 18
        }
      ]
    },
    {
      "cell_type": "markdown",
      "metadata": {
        "id": "IPK2m1YrFh4c",
        "colab_type": "text"
      },
      "source": [
        "Seems pretty straightforward, but as usual it's a bit more complicated. Loading the state dict works only if the model architecture is exactly the same as the checkpoint architecture. If I create a model with a different architecture, this fails."
      ]
    },
    {
      "cell_type": "code",
      "metadata": {
        "id": "sslBF9EOFh4d",
        "colab_type": "code",
        "outputId": "83122f40-0eaa-4793-f1d1-06bed4393aa0",
        "colab": {
          "base_uri": "https://localhost:8080/",
          "height": 450
        }
      },
      "source": [
        "# Try this\n",
        "model = fc_model.Network(784, 10, [450, 250, 100])\n",
        "# This will throw an error because the tensor sizes are wrong!\n",
        "model.load_state_dict(state_dict)"
      ],
      "execution_count": 0,
      "outputs": [
        {
          "output_type": "error",
          "ename": "RuntimeError",
          "evalue": "ignored",
          "traceback": [
            "\u001b[0;31m---------------------------------------------------------------------------\u001b[0m",
            "\u001b[0;31mRuntimeError\u001b[0m                              Traceback (most recent call last)",
            "\u001b[0;32m<ipython-input-24-f615a3244c87>\u001b[0m in \u001b[0;36m<module>\u001b[0;34m()\u001b[0m\n\u001b[1;32m      1\u001b[0m \u001b[0mmodel\u001b[0m \u001b[0;34m=\u001b[0m \u001b[0mfc_model\u001b[0m\u001b[0;34m.\u001b[0m\u001b[0mNetwork\u001b[0m\u001b[0;34m(\u001b[0m\u001b[0;36m784\u001b[0m\u001b[0;34m,\u001b[0m \u001b[0;36m10\u001b[0m\u001b[0;34m,\u001b[0m \u001b[0;34m[\u001b[0m\u001b[0;36m450\u001b[0m\u001b[0;34m,\u001b[0m \u001b[0;36m250\u001b[0m\u001b[0;34m,\u001b[0m \u001b[0;36m100\u001b[0m\u001b[0;34m]\u001b[0m\u001b[0;34m)\u001b[0m\u001b[0;34m\u001b[0m\u001b[0;34m\u001b[0m\u001b[0m\n\u001b[1;32m      2\u001b[0m \u001b[0;31m# This will throw an error because the tensor sizes are wrong!\u001b[0m\u001b[0;34m\u001b[0m\u001b[0;34m\u001b[0m\u001b[0;34m\u001b[0m\u001b[0m\n\u001b[0;32m----> 3\u001b[0;31m \u001b[0mmodel\u001b[0m\u001b[0;34m.\u001b[0m\u001b[0mload_state_dict\u001b[0m\u001b[0;34m(\u001b[0m\u001b[0mstate_dict\u001b[0m\u001b[0;34m)\u001b[0m\u001b[0;34m\u001b[0m\u001b[0;34m\u001b[0m\u001b[0m\n\u001b[0m",
            "\u001b[0;32m/usr/local/lib/python3.6/dist-packages/torch/nn/modules/module.py\u001b[0m in \u001b[0;36mload_state_dict\u001b[0;34m(self, state_dict, strict)\u001b[0m\n\u001b[1;32m    775\u001b[0m         \u001b[0;32mif\u001b[0m \u001b[0mlen\u001b[0m\u001b[0;34m(\u001b[0m\u001b[0merror_msgs\u001b[0m\u001b[0;34m)\u001b[0m \u001b[0;34m>\u001b[0m \u001b[0;36m0\u001b[0m\u001b[0;34m:\u001b[0m\u001b[0;34m\u001b[0m\u001b[0;34m\u001b[0m\u001b[0m\n\u001b[1;32m    776\u001b[0m             raise RuntimeError('Error(s) in loading state_dict for {}:\\n\\t{}'.format(\n\u001b[0;32m--> 777\u001b[0;31m                                self.__class__.__name__, \"\\n\\t\".join(error_msgs)))\n\u001b[0m\u001b[1;32m    778\u001b[0m         \u001b[0;32mreturn\u001b[0m \u001b[0m_IncompatibleKeys\u001b[0m\u001b[0;34m(\u001b[0m\u001b[0mmissing_keys\u001b[0m\u001b[0;34m,\u001b[0m \u001b[0munexpected_keys\u001b[0m\u001b[0;34m)\u001b[0m\u001b[0;34m\u001b[0m\u001b[0;34m\u001b[0m\u001b[0m\n\u001b[1;32m    779\u001b[0m \u001b[0;34m\u001b[0m\u001b[0m\n",
            "\u001b[0;31mRuntimeError\u001b[0m: Error(s) in loading state_dict for Network:\n\tsize mismatch for hidden_layers.0.weight: copying a param with shape torch.Size([512, 784]) from checkpoint, the shape in current model is torch.Size([450, 784]).\n\tsize mismatch for hidden_layers.0.bias: copying a param with shape torch.Size([512]) from checkpoint, the shape in current model is torch.Size([450]).\n\tsize mismatch for hidden_layers.1.weight: copying a param with shape torch.Size([256, 512]) from checkpoint, the shape in current model is torch.Size([250, 450]).\n\tsize mismatch for hidden_layers.1.bias: copying a param with shape torch.Size([256]) from checkpoint, the shape in current model is torch.Size([250]).\n\tsize mismatch for hidden_layers.2.weight: copying a param with shape torch.Size([128, 256]) from checkpoint, the shape in current model is torch.Size([100, 250]).\n\tsize mismatch for hidden_layers.2.bias: copying a param with shape torch.Size([128]) from checkpoint, the shape in current model is torch.Size([100]).\n\tsize mismatch for output.weight: copying a param with shape torch.Size([10, 128]) from checkpoint, the shape in current model is torch.Size([10, 100])."
          ]
        }
      ]
    },
    {
      "cell_type": "markdown",
      "metadata": {
        "id": "3mLzuwo-Fh4g",
        "colab_type": "text"
      },
      "source": [
        "This means we need to rebuild the model exactly as it was when trained. Information about the model architecture needs to be saved in the checkpoint, along with the state dict. To do this, you build a dictionary with all the information you need to compeletely rebuild the model."
      ]
    },
    {
      "cell_type": "code",
      "metadata": {
        "id": "uColV9HHFh4h",
        "colab_type": "code",
        "colab": {}
      },
      "source": [
        "checkpoint = {'input_size': 784,\n",
        "              'output_size': 10,\n",
        "              'hidden_layers': [each.out_features for each in model.hidden_layers],\n",
        "              'state_dict': model.state_dict()}\n",
        "\n",
        "torch.save(checkpoint, 'checkpoint.pth')"
      ],
      "execution_count": 0,
      "outputs": []
    },
    {
      "cell_type": "markdown",
      "metadata": {
        "id": "zz8qQoqgFh4k",
        "colab_type": "text"
      },
      "source": [
        "Now the checkpoint has all the necessary information to rebuild the trained model. You can easily make that a function if you want. Similarly, we can write a function to load checkpoints. "
      ]
    },
    {
      "cell_type": "code",
      "metadata": {
        "id": "_lxAie0EFh4k",
        "colab_type": "code",
        "colab": {}
      },
      "source": [
        "def load_checkpoint(filepath):\n",
        "    checkpoint = torch.load(filepath)\n",
        "    model = fc_model.Network(checkpoint['input_size'],\n",
        "                             checkpoint['output_size'],\n",
        "                             checkpoint['hidden_layers'])\n",
        "    model.load_state_dict(checkpoint['state_dict'])\n",
        "    \n",
        "    return model"
      ],
      "execution_count": 0,
      "outputs": []
    },
    {
      "cell_type": "code",
      "metadata": {
        "id": "puUOOkJsFh4n",
        "colab_type": "code",
        "outputId": "1de7dcbc-9e43-46d0-e535-a9624d6ba13b",
        "colab": {
          "base_uri": "https://localhost:8080/",
          "height": 168
        }
      },
      "source": [
        "model = load_checkpoint('checkpoint.pth')\n",
        "print(model)"
      ],
      "execution_count": 0,
      "outputs": [
        {
          "output_type": "stream",
          "text": [
            "Network(\n",
            "  (hidden_layers): ModuleList(\n",
            "    (0): Linear(in_features=784, out_features=450, bias=True)\n",
            "    (1): Linear(in_features=450, out_features=250, bias=True)\n",
            "    (2): Linear(in_features=250, out_features=100, bias=True)\n",
            "  )\n",
            "  (output): Linear(in_features=100, out_features=10, bias=True)\n",
            "  (dropout): Dropout(p=0.5)\n",
            ")\n"
          ],
          "name": "stdout"
        }
      ]
    },
    {
      "cell_type": "code",
      "metadata": {
        "id": "dMWIUwxNuVx-",
        "colab_type": "code",
        "colab": {}
      },
      "source": [
        ""
      ],
      "execution_count": 0,
      "outputs": []
    }
  ]
}